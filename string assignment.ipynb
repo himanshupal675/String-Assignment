{
 "cells": [
  {
   "cell_type": "markdown",
   "id": "2b6614e1-3e2b-44af-86e0-efe9d4427089",
   "metadata": {},
   "source": [
    "# Answer1\n",
    " You can put a backslash character followed by a quote ( \\\" or \\' ). This is called an escape sequence and Python will remove the backslash, and put just the quote in the string."
   ]
  },
  {
   "cell_type": "markdown",
   "id": "e16526cb-f93f-49f7-8dd7-94319aa96bea",
   "metadata": {},
   "source": [
    "# Answer 2\n",
    "Here, 1s x a string type var1able.\n",
    "\n",
    "ex-\n",
    "\n",
    "x='a'\n",
    "\n",
    "type(x)\n",
    "\n",
    "here type of x variable is string."
   ]
  },
  {
   "cell_type": "markdown",
   "id": "bccc8606-bc8d-4114-b606-e9ee11883c75",
   "metadata": {},
   "source": [
    "# #Answer 3\n",
    "\n",
    "\n"
   ]
  },
  {
   "cell_type": "code",
   "execution_count": 9,
   "id": "29a3dae7-d7a2-4d4b-8500-a5aa5bd5c96c",
   "metadata": {},
   "outputs": [
    {
     "data": {
      "text/plain": [
       "8"
      ]
     },
     "execution_count": 9,
     "metadata": {},
     "output_type": "execute_result"
    }
   ],
   "source": [
    "a=\"Welcome to Python foun ation course\"\n",
    "a.find(\"to\")"
   ]
  },
  {
   "cell_type": "code",
   "execution_count": 10,
   "id": "d3883789-71dc-499d-bbdd-92cb6d4d97c5",
   "metadata": {},
   "outputs": [
    {
     "data": {
      "text/plain": [
       "1"
      ]
     },
     "execution_count": 10,
     "metadata": {},
     "output_type": "execute_result"
    }
   ],
   "source": [
    "a.count('a')"
   ]
  },
  {
   "cell_type": "code",
   "execution_count": 13,
   "id": "09da9127-23e4-4621-a5cf-9d4fea219714",
   "metadata": {},
   "outputs": [
    {
     "data": {
      "text/plain": [
       "35"
      ]
     },
     "execution_count": 13,
     "metadata": {},
     "output_type": "execute_result"
    }
   ],
   "source": [
    "len(a)"
   ]
  },
  {
   "cell_type": "code",
   "execution_count": 15,
   "id": "6985dd6c-b019-4089-b235-70627be11949",
   "metadata": {},
   "outputs": [
    {
     "data": {
      "text/plain": [
       "'Welcome to Python foun ation course ,thank you. '"
      ]
     },
     "execution_count": 15,
     "metadata": {},
     "output_type": "execute_result"
    }
   ],
   "source": [
    "a+\" ,thank you. \""
   ]
  },
  {
   "cell_type": "markdown",
   "id": "ad06715a-de88-48bb-99aa-c3db81caa152",
   "metadata": {},
   "source": [
    "## Answer 4"
   ]
  },
  {
   "cell_type": "code",
   "execution_count": null,
   "id": "576fea54-9e88-4a12-bf94-0d8853a750ab",
   "metadata": {},
   "outputs": [],
   "source": [
    "\"\"\"Q4Q For the var1able: wor = ‘PanaJ1@T//56(\n",
    "Calculate the follow1ng:\n",
    "(a) Total number of alphabets 1n lowercase\n",
    "(b) Total number of alphabets 1n uppercase\n",
    "(c) Total number of numer1cal 1n str1ng\"\"\""
   ]
  },
  {
   "cell_type": "code",
   "execution_count": 9,
   "id": "b3f4570d-239f-4156-a3e2-1172dbc56dc3",
   "metadata": {},
   "outputs": [],
   "source": [
    "word = 'PanaJi@12256'"
   ]
  },
  {
   "cell_type": "code",
   "execution_count": 21,
   "id": "aab9f134-1d0e-4f08-a716-dd39d63b6bd5",
   "metadata": {},
   "outputs": [
    {
     "name": "stdout",
     "output_type": "stream",
     "text": [
      "Total Number Of Uppercase :  2\n"
     ]
    }
   ],
   "source": [
    "count_upper=sum(1 for char in  word if char.isupper())\n",
    "print('Total Number Of Uppercase : ',count_upper)"
   ]
  },
  {
   "cell_type": "code",
   "execution_count": 22,
   "id": "be06f5ed-f8a3-4e8b-bb39-e6fe5f30d40a",
   "metadata": {},
   "outputs": [
    {
     "name": "stdout",
     "output_type": "stream",
     "text": [
      "Total Number of Lowercase :  4\n"
     ]
    }
   ],
   "source": [
    "count_lower=sum(1 for char in word if char.islower())\n",
    "print('Total Number of Lowercase : ',count_lower)"
   ]
  },
  {
   "cell_type": "code",
   "execution_count": 23,
   "id": "ea8ff667-2a0b-4f2b-b239-19cf8128bab1",
   "metadata": {},
   "outputs": [
    {
     "name": "stdout",
     "output_type": "stream",
     "text": [
      "Total no of numerical : 5\n"
     ]
    }
   ],
   "source": [
    "count_num=sum(1 for i in word if i.isdigit())\n",
    "print('Total no of numerical :',count_num)"
   ]
  },
  {
   "cell_type": "markdown",
   "id": "2c9191e7-6382-4bf6-9d2c-c73e2c179d2a",
   "metadata": {},
   "source": [
    "## Answer 5"
   ]
  },
  {
   "cell_type": "code",
   "execution_count": 24,
   "id": "0503c5e8-83f7-446c-87d8-2882ef4b5f05",
   "metadata": {},
   "outputs": [
    {
     "data": {
      "text/plain": [
       "'55'"
      ]
     },
     "execution_count": 24,
     "metadata": {},
     "output_type": "execute_result"
    }
   ],
   "source": [
    "#Q5Q Wr1te a co e to store a numer1cal value 1nside a var1able then convert 1t 1nto str1ng\n",
    "\n",
    "num=55\n",
    "str_num=str(num)\n",
    "print(\"Original numerical value:\", nume)\n",
    "print(\"Converted string:\", numeric_string)"
   ]
  },
  {
   "cell_type": "code",
   "execution_count": null,
   "id": "bce0679b-fcd7-4949-94c9-03b7e0398dcf",
   "metadata": {},
   "outputs": [],
   "source": []
  }
 ],
 "metadata": {
  "kernelspec": {
   "display_name": "Python 3 (ipykernel)",
   "language": "python",
   "name": "python3"
  },
  "language_info": {
   "codemirror_mode": {
    "name": "ipython",
    "version": 3
   },
   "file_extension": ".py",
   "mimetype": "text/x-python",
   "name": "python",
   "nbconvert_exporter": "python",
   "pygments_lexer": "ipython3",
   "version": "3.10.8"
  }
 },
 "nbformat": 4,
 "nbformat_minor": 5
}
